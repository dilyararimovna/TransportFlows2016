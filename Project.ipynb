{
 "cells": [
  {
   "cell_type": "markdown",
   "metadata": {},
   "source": [
    "# Модель стабильной динамики\n",
    "\n",
    "#### Прямая задача:\n",
    "\n",
    "$$\\Psi(f) = \\sum_{e \\in E \\backslash E'} \\int\\limits_0^{f_e} \\tau_e^{\\mu}(z) dz + \\sum_{e \\in E'} f_e \\bar t_e \\rightarrow \\min_{f = \\Theta x, x \\in X, \\\\ f_e \\leq \\bar f_e, ~ e \\in E'}$$\n",
    "\n",
    "\n",
    "#### Двойственная задача:\n",
    "\n",
    "$$\\Upsilon(t) = -  \\sum_{w \\in W} d_w T_w(t) + <\\bar f, t - \\bar t> - \\mu \\sum_{e \\in E \\backslash E'} h_e^{\\mu}(t_e) \\rightarrow \\min_{t_e \\geq \\bar t_e, ~ e \\in E', \\\\ t_e \\in dom h_e^{\\mu}(t_e), ~ e \\in E \\backslash E'}$$\n",
    "\n",
    "где $T_w(t)$ - длина кратчайшего пути из $i$ в $j$ ($w = (i,j) \\in W$) на графе, ребра которого взвешены вектором $t = \\{t_e\\}_{e \\in E'}$, а функции $h_e^{\\mu}(t_e)$ - гладкие вогнутые.\n",
    "\n",
    "При этом решение изначальной задачи $f$ можно получить из формул:\n",
    "$$f_e = \\bar f_e - s_e, ~ e \\in E', ~ \\textit{где}~ s_e \\geq 0 - \\text{множитель Лагранжа к ограничению } t_e \\geq \\bar t_e $$\n",
    "$$\\tau_e^{\\mu}(f_e) = t_e, ~ e \\in E \\backslash E'$$\n",
    "\n",
    "\n"
   ]
  },
  {
   "cell_type": "code",
   "execution_count": null,
   "metadata": {
    "collapsed": true
   },
   "outputs": [],
   "source": []
  },
  {
   "cell_type": "markdown",
   "metadata": {},
   "source": [
    "### Reading data"
   ]
  },
  {
   "cell_type": "code",
   "execution_count": 1,
   "metadata": {
    "collapsed": false
   },
   "outputs": [],
   "source": [
    "import csv\n",
    "import numpy as np\n",
    "import networkx as nx\n",
    "import matplotlib.pyplot as plt"
   ]
  },
  {
   "cell_type": "code",
   "execution_count": 2,
   "metadata": {
    "collapsed": false
   },
   "outputs": [
    {
     "name": "stdout",
     "output_type": "stream",
     "text": [
      "[['1' '117' '9000' '5280' '1.090458488' '0.15' '4' '4842' '0' '1']]\n",
      "Number of edges:  914\n"
     ]
    }
   ],
   "source": [
    "net_data = []\n",
    "with open('C:\\Users\\Dilyara\\Documents\\convex\\Data\\Anaheim_net.csv', 'rb') as csvfile:\n",
    "    reader = csv.reader(csvfile, delimiter='\\t', quotechar='|')\n",
    "    for ind, row in enumerate(reader):\n",
    "        if ind > 7:\n",
    "            net_data = np.append(net_data, np.array(row[1:-1]))\n",
    "            \n",
    "net_data = np.array(net_data).reshape((-1,10))\n",
    "print net_data[:1,:]\n",
    "num_edges = net_data.shape[0]\n",
    "print 'Number of edges: ', num_edges"
   ]
  },
  {
   "cell_type": "code",
   "execution_count": 3,
   "metadata": {
    "collapsed": false
   },
   "outputs": [
    {
     "name": "stdout",
     "output_type": "stream",
     "text": [
      "Correspondences number:  1406 \n",
      "\n",
      "Origins number:  38\n",
      "Format: [origin, destination, flow]\n",
      "[[1.0, 2.0, 1365.9], [1.0, 3.0, 407.4], [1.0, 4.0, 861.4], [1.0, 5.0, 354.4], [1.0, 6.0, 545.1], [1.0, 7.0, 431.5], [1.0, 8.0, 1.0], [1.0, 9.0, 56.8], [1.0, 10.0, 75.3], [1.0, 11.0, 1.0]]\n"
     ]
    }
   ],
   "source": [
    "trips_data = []\n",
    "pairs = []\n",
    "origin = 0\n",
    "corrs = []\n",
    "\n",
    "with open('C:\\Users\\Dilyara\\Documents\\convex\\Data\\Anaheim_trips.csv', 'rb') as csvfile:\n",
    "    reader = csv.reader(csvfile, delimiter=';', quotechar='|')\n",
    "    for ind, row in enumerate(reader):\n",
    "        if ind > 3:\n",
    "            if len(row) > 0 and row[0][0] == 'O':\n",
    "                origin += 1\n",
    "            else:\n",
    "                row = row[:-1]\n",
    "                if len(row) > 0:\n",
    "                    row_ = []\n",
    "                    for elem in row:\n",
    "                        elem = (str(origin) + ':' + elem).split(':')\n",
    "                        for ind, sub_elem in enumerate(elem):\n",
    "                            elem[ind] = sub_elem.strip()\n",
    "                        row_.append(map(float, elem))\n",
    "                    trips_data.extend(row_)\n",
    "\n",
    "print 'Correspondences number: ', len(trips_data), '\\n'\n",
    "print 'Origins number: ', origin\n",
    "print 'Format: [origin, destination, flow]'\n",
    "print trips_data[:10]"
   ]
  },
  {
   "cell_type": "code",
   "execution_count": 4,
   "metadata": {
    "collapsed": false
   },
   "outputs": [
    {
     "name": "stdout",
     "output_type": "stream",
     "text": [
      "[['1' '117' '7074.9000000000015' '1.1529198689124767']\n",
      " ['2' '87' '9662.5000000000073' '1.3077728285644104']\n",
      " ['3' '74' '7668.9999999999927' '1.1766938339006712']\n",
      " ['4' '233' '12173.799999999996' '1.6380226412299237']\n",
      " ['5' '165' '2586.7999999999956' '1.0915747901668154']]\n"
     ]
    }
   ],
   "source": [
    "flow_data = []\n",
    "with open('C:\\Users\\Dilyara\\Documents\\convex\\Data\\Anaheim_flow.csv', 'rb') as csvfile:\n",
    "    reader = csv.reader(csvfile, delimiter='\\t', quotechar='|')\n",
    "    for ind, row in enumerate(reader):\n",
    "        if ind > 5:\n",
    "            for i, elem in enumerate(row):\n",
    "                row[i] = elem.strip()\n",
    "            row.remove('')\n",
    "            row.remove(':')\n",
    "            row.remove(';')\n",
    "            #print row\n",
    "            flow_data = np.append(flow_data, np.array(row))\n",
    "\n",
    "flow_data = np.array(flow_data).reshape((-1,4))\n",
    "print flow_data[:5,:]"
   ]
  },
  {
   "cell_type": "code",
   "execution_count": 5,
   "metadata": {
    "collapsed": false
   },
   "outputs": [
    {
     "name": "stdout",
     "output_type": "stream",
     "text": [
      "Nodes number:  416\n",
      "Edges number:  914\n"
     ]
    }
   ],
   "source": [
    "city = nx.DiGraph()\n",
    "capacities = np.array(map(float, net_data[:,2]))\n",
    "weights = np.zeros(num_edges)\n",
    "\n",
    "for i in xrange(num_edges):\n",
    "    city.add_edge(int(net_data[i,0]), int(net_data[i,1]), weight=float(net_data[i,3]))\n",
    "    weights[i] = float(net_data[i,3])\n",
    "print 'Nodes number: ', len(city.nodes())\n",
    "print 'Edges number: ', len(city.edges())\n",
    "#lengths = nx.all_pairs_dijkstra_path_length(city)"
   ]
  },
  {
   "cell_type": "code",
   "execution_count": 6,
   "metadata": {
    "collapsed": false
   },
   "outputs": [
    {
     "name": "stdout",
     "output_type": "stream",
     "text": [
      "[[1.0, 2.0, 1365.9], [1.0, 3.0, 407.4]]\n"
     ]
    }
   ],
   "source": [
    "#trips_data = trips_data[:1000]\n",
    "print trips_data[:2]"
   ]
  },
  {
   "cell_type": "markdown",
   "metadata": {},
   "source": [
    "### Algorithm"
   ]
  },
  {
   "cell_type": "code",
   "execution_count": 8,
   "metadata": {
    "collapsed": false,
    "scrolled": false
   },
   "outputs": [
    {
     "name": "stdout",
     "output_type": "stream",
     "text": [
      "Zero iteration is successful! j =  0   -4522217111.3 \n",
      "\n",
      "-641824377.524 \n",
      "\n",
      "j =  1 value =  -51315813.6271\n",
      "j =  2 value =  -2809989.70088\n",
      "j =  3 value =  11529555.3408\n",
      "1  iteration done \n",
      "\n",
      "0.00803751830334\n",
      "Success! Iteration =  1\n",
      "value:  -4558564514.1\n",
      "Time :  272.065413945\n"
     ]
    }
   ],
   "source": [
    "import numpy as np\n",
    "from timeit import default_timer as timer\n",
    "\n",
    "def weighted_city(t):\n",
    "    global num_edges, net_data, trips_data\n",
    "    G = nx.DiGraph()\n",
    "    for i in xrange(num_edges):\n",
    "        G.add_edge(int(net_data[i,0]), int(net_data[i,1]), weight=t[i])\n",
    "    result = 0.\n",
    "    lengths = nx.all_pairs_dijkstra_path_length(G)\n",
    "    for i in xrange(len(trips_data)):\n",
    "        result += lengths[int(trips_data[i][0])][int(trips_data[i][1])] * trips_data[i][2]\n",
    "    #print 'Weighted winnipeg calculated\\n'\n",
    "    return result\n",
    "\n",
    "def prox(z):\n",
    "    return z.dot(z) / 2\n",
    "\n",
    "def prox_grad(z):\n",
    "    return z\n",
    "\n",
    "def V(x, y):\n",
    "    return prox(x - y)\n",
    "\n",
    "def f(x):\n",
    "    return capacities.dot(x - weights) - weighted_city(x)\n",
    "\n",
    "def grad_d_wT_w(t):\n",
    "    global num_edges, net_data, trips_data\n",
    "    G = nx.DiGraph()\n",
    "    for i in xrange(num_edges):\n",
    "        G.add_edge(int(net_data[i,0]), int(net_data[i,1]), weight=t[i])\n",
    "    paths = nx.all_pairs_dijkstra_path(G)\n",
    "    grad = np.zeros(num_edges)\n",
    "    for i in xrange(len(trips_data)):\n",
    "        vec = np.array([ sum([(paths[int(trips_data[i][0])][int(trips_data[i][1])][j] == int(net_data[k,0]) and\n",
    "                               paths[int(trips_data[i][0])][int(trips_data[i][1])][j + 1] == int(net_data[k,1])) \n",
    "                              for j in xrange(len(paths[int(trips_data[i][0])][int(trips_data[i][1])]) - 1)])\n",
    "                        for k in xrange(num_edges)])\n",
    "        grad += trips_data[i][2] * vec\n",
    "    return grad\n",
    "\n",
    "def grad_f(x):\n",
    "    return capacities - grad_d_wT_w(x)\n",
    "\n",
    "def phi(k, x):\n",
    "    global y, alpha\n",
    "    res = V(x, y[0])\n",
    "    for i in xrange(k + 1):\n",
    "        res += alpha[k] * (f(y[k]) + grad_f(y[k]).dot(x - y[k]))\n",
    "\n",
    "t0 = timer()\n",
    "n = num_edges\n",
    "EPS = 10**-3\n",
    "MU = 0.25\n",
    "omega = 1.\n",
    "MU_tilde = MU / omega\n",
    "\n",
    "L = [] # list of lists\n",
    "A = [] # list of numbers\n",
    "alpha = [] # list of numbers\n",
    "y = [] # list of arrays\n",
    "\n",
    "# 0 interation:\n",
    "L.append([])\n",
    "L[0].append(2.)\n",
    "A.append(1. / L[0][0])\n",
    "alpha.append(1. / L[0][0])\n",
    "\n",
    "\n",
    "e = np.zeros(n)\n",
    "e1 = np.ones(n)\n",
    "y.append(e)\n",
    "#!!!!!\n",
    "grad_f_y_0 = grad_f(y[0])\n",
    "x_prev = np.maximum(y[0] - alpha[0] * grad_f_y_0, weights)\n",
    "u = x_prev\n",
    "#!!!!!\n",
    "f_y_0 = f(y[0])\n",
    "\n",
    "j = []\n",
    "j.append(0)\n",
    "\n",
    "value = (- f(x_prev) + f_y_0 + grad_f_y_0.dot(x_prev - y[0]) +\n",
    "         L[0][j[0]] / 2 * np.linalg.norm(x_prev - y[0])**2 + alpha[0] * EPS / (2 * A[0]) )\n",
    "Y_0 = f(x_prev)\n",
    "\n",
    "while 0. > value and (j[0] < 10):\n",
    "    j[0] += 1\n",
    "    L[0].append(2**(j[0]) * L[0][0])\n",
    "    A[0] = 1. / L[0][j[0]]\n",
    "    alpha[0] = 1. / L[0][j[0]]\n",
    "    x_prev = np.maximum(y[0] - alpha[0] * grad_f_y_0, weights)\n",
    "    Y_0 = f(x_prev)\n",
    "    value = (- Y_0 + f_y_0 + grad_f_y_0.dot(x_prev - y[0]) +\n",
    "         L[0][j[0]] / 2 * np.linalg.norm(x_prev - y[0])**2 + alpha[0] * EPS / (2 * A[0]) )\n",
    "    print 'j = ', j[0], 'value = ', value,'\\n'\n",
    "\n",
    "\n",
    "np.savetxt('t_data0.txt', x_prev)\n",
    "print 'Zero iteration is successful! j = ', j[0],' ', Y_0, '\\n'\n",
    "\n",
    "k = 0\n",
    "while (k < 100 ):\n",
    "    j.append(0) #j_k+1\n",
    "    L.append([])\n",
    "    L[k + 1].append(L[k][j[k]] / 2) #L_k+1^0\n",
    "    alpha_next = ( (1. + A[k] * MU_tilde) / (2 * L[k + 1][j[k + 1]]) +\n",
    "                  np.sqrt( (1. + A[k] * MU_tilde)/(4 * L[k + 1][j[k + 1]]**2) +\n",
    "                          (A[k] * (1. + A[k] * MU_tilde))/(L[k + 1][j[k + 1]]) ) )\n",
    "    alpha.append(alpha_next)\n",
    "    A.append(A[k] + alpha[k + 1])\n",
    "    y.append((alpha[k + 1] * u + A[k] * x_prev)/A[k+1])\n",
    "    #!!!!!!!!\n",
    "    #grad_f_y_next = grad_f(y[k+1])\n",
    "    #f_y_next = f(y[k + 1])\n",
    "        \n",
    "    u_next = np.maximum(u - alpha[k+1] * grad_f(y[k+1]), weights)\n",
    "    x_next = (alpha[k + 1] * u_next + A[k] * x_prev) / A[k + 1]\n",
    "    #!!!!!\n",
    "    #f_x_next = f(x_next)\n",
    "    \n",
    "    value = ( f(y[k + 1]) + grad_f(y[k+1]).dot(x_next - y[k + 1]) + \n",
    "             (L[k + 1][j[k + 1]] / 2)  * np.linalg.norm(x_next - y[k + 1])**2 +\n",
    "             alpha[k + 1] * EPS / (2 * A[k + 1])) - f(x_next)\n",
    "    print value,'\\n'\n",
    "    while (value < 0. and j[k + 1] < 4):\n",
    "        j[k + 1] += 1\n",
    "        L[k + 1].append(2**j[k + 1] * L[k][j[k]])\n",
    "        alpha[k + 1] = ( (1. + A[k] * MU_tilde) / (2 * L[k + 1][j[k + 1]]) +\n",
    "                        np.sqrt( (1. + A[k] * MU_tilde)/(4 * L[k + 1][j[k + 1]]**2) +\n",
    "                                (A[k] * (1. + A[k] * MU_tilde))/(L[k + 1][j[k + 1]]) ) )\n",
    "        A[k+1] = A[k] + alpha[k + 1]\n",
    "        y[k+1] = (alpha[k + 1] * u + A[k] * x_prev)/A[k+1]\n",
    "        u_next = np.maximum(u - alpha[k+1] * grad_f(y[k+1]), weights)\n",
    "        x_next = (alpha[k + 1] * u_next + A[k] * x_prev) / A[k + 1]\n",
    "        Y_next = f(x_next)\n",
    "        value = ( f(y[k + 1]) + grad_f(y[k+1]).dot(x_next - y[k + 1]) + \n",
    "                 L[k + 1][j[k + 1]] / 2 * np.linalg.norm(x_next - y[k + 1])**2 + \n",
    "                 alpha[k + 1] * EPS / (2 * A[k + 1])) - Y_next\n",
    "        print 'j = ', j[k+1], 'value = ', value\n",
    "        \n",
    "    k += 1\n",
    "    print k, ' iteration done \\n'\n",
    "    print np.linalg.norm(Y_next - Y_0)/np.linalg.norm(Y_0)\n",
    "    if np.linalg.norm(Y_next - Y_0)/np.linalg.norm(Y_0) <= 10**-2:\n",
    "        np.savetxt('t_solution' + str(k) + '.txt', x_next)\n",
    "        print 'Success! Iteration = ', k\n",
    "        break\n",
    "    x_prev = x_next\n",
    "    u = u_next\n",
    "    np.savetxt('t_data' + str(k) + '.txt', x_next)\n",
    "\n",
    "t1 = timer()\n",
    "#print \"Solution: \", x_next\n",
    "print \"value: \", Y_next\n",
    "print 'Time : ', t1 - t0"
   ]
  },
  {
   "cell_type": "code",
   "execution_count": null,
   "metadata": {
    "collapsed": false
   },
   "outputs": [],
   "source": []
  },
  {
   "cell_type": "code",
   "execution_count": null,
   "metadata": {
    "collapsed": true
   },
   "outputs": [],
   "source": []
  },
  {
   "cell_type": "markdown",
   "metadata": {},
   "source": [
    "# Модель Бэкмана\n",
    "\n",
    "#### Прямая задача:\n",
    "\n",
    "$$\\Psi(f) = \\sum_{e \\in E} \\sigma_e(f_e) = \\sum_{e \\in E} \\int\\limits_0^{f_e} \\tau_e(z) dz \\rightarrow \\min_{f = \\Theta x, x \\in X}$$\n",
    "\n",
    "#### Двойственная задача:\n",
    "\n",
    "$$\\Upsilon(t) = -\\sum_{w \\in W} d_w T_w(t) + \\sum_{e \\in E} \\bar f_e (t_e - \\bar t_e) \\rightarrow \\min_{t_e \\in dom~\\sigma_e(t_e),~e \\in E}$$"
   ]
  },
  {
   "cell_type": "markdown",
   "metadata": {},
   "source": [
    "### Algorithm"
   ]
  },
  {
   "cell_type": "code",
   "execution_count": null,
   "metadata": {
    "collapsed": true
   },
   "outputs": [],
   "source": [
    "import numpy as np\n",
    "from timeit import default_timer as timer\n",
    "\n",
    "def weighted_city(t):\n",
    "    global num_edges, net_data, trips_data\n",
    "    G = nx.DiGraph()\n",
    "    for i in xrange(num_edges):\n",
    "        G.add_edge(int(net_data[i,0]), int(net_data[i,1]), weight=t[i])\n",
    "    result = 0.\n",
    "    lengths = nx.all_pairs_dijkstra_path_length(G)\n",
    "    for i in xrange(len(trips_data)):\n",
    "        result += lengths[int(trips_data[i][0])][int(trips_data[i][1])] * trips_data[i][2]\n",
    "    #print 'Weighted winnipeg calculated\\n'\n",
    "    return result\n",
    "\n",
    "def prox(z):\n",
    "    return z.dot(z) / 2\n",
    "\n",
    "def prox_grad(z):\n",
    "    return z\n",
    "\n",
    "def V(x, y):\n",
    "    return prox(x - y)\n",
    "\n",
    "def f(x):\n",
    "    return capacities.dot(x - weights) - weighted_city(x)\n",
    "\n",
    "def grad_d_wT_w(t):\n",
    "    global num_edges, net_data, trips_data\n",
    "    G = nx.DiGraph()\n",
    "    for i in xrange(num_edges):\n",
    "        G.add_edge(int(net_data[i,0]), int(net_data[i,1]), weight=t[i])\n",
    "    paths = nx.all_pairs_dijkstra_path(G)\n",
    "    grad = np.zeros(num_edges)\n",
    "    for i in xrange(len(trips_data)):\n",
    "        vec = np.array([ sum([(paths[int(trips_data[i][0])][int(trips_data[i][1])][j] == int(net_data[k,0]) and\n",
    "                               paths[int(trips_data[i][0])][int(trips_data[i][1])][j + 1] == int(net_data[k,1])) \n",
    "                              for j in xrange(len(paths[int(trips_data[i][0])][int(trips_data[i][1])]) - 1)])\n",
    "                        for k in xrange(num_edges)])\n",
    "        grad += trips_data[i][2] * vec\n",
    "    return grad\n",
    "\n",
    "def grad_f(x):\n",
    "    return capacities - grad_d_wT_w(x)\n",
    "\n",
    "def phi(k, x):\n",
    "    global y, alpha\n",
    "    res = V(x, y[0])\n",
    "    for i in xrange(k + 1):\n",
    "        res += alpha[k] * (f(y[k]) + grad_f(y[k]).dot(x - y[k]))\n",
    "\n",
    "t0 = timer()\n",
    "n = num_edges\n",
    "EPS = 10**-3\n",
    "MU = 0.25\n",
    "omega = 1.\n",
    "MU_tilde = MU / omega\n",
    "\n",
    "L = [] # list of lists\n",
    "A = [] # list of numbers\n",
    "alpha = [] # list of numbers\n",
    "y = [] # list of arrays\n",
    "\n",
    "# 0 interation:\n",
    "L.append([])\n",
    "L[0].append(2.)\n",
    "A.append(1. / L[0][0])\n",
    "alpha.append(1. / L[0][0])\n",
    "\n",
    "\n",
    "e = np.zeros(n)\n",
    "e1 = np.ones(n)\n",
    "y.append(e)\n",
    "#!!!!!\n",
    "grad_f_y_0 = grad_f(y[0])\n",
    "x_prev = np.maximum(y[0] - alpha[0] * grad_f_y_0, weights)\n",
    "u = x_prev\n",
    "#!!!!!\n",
    "f_y_0 = f(y[0])\n",
    "\n",
    "j = []\n",
    "j.append(0)\n",
    "\n",
    "value = (- f(x_prev) + f_y_0 + grad_f_y_0.dot(x_prev - y[0]) +\n",
    "         L[0][j[0]] / 2 * np.linalg.norm(x_prev - y[0])**2 + alpha[0] * EPS / (2 * A[0]) )\n",
    "Y_0 = f(x_prev)\n",
    "\n",
    "while 0. > value and (j[0] < 10):\n",
    "    j[0] += 1\n",
    "    L[0].append(2**(j[0]) * L[0][0])\n",
    "    A[0] = 1. / L[0][j[0]]\n",
    "    alpha[0] = 1. / L[0][j[0]]\n",
    "    x_prev = np.maximum(y[0] - alpha[0] * grad_f_y_0, weights)\n",
    "    Y_0 = f(x_prev)\n",
    "    value = (- Y_0 + f_y_0 + grad_f_y_0.dot(x_prev - y[0]) +\n",
    "         L[0][j[0]] / 2 * np.linalg.norm(x_prev - y[0])**2 + alpha[0] * EPS / (2 * A[0]) )\n",
    "    print 'j = ', j[0], 'value = ', value,'\\n'\n",
    "\n",
    "\n",
    "np.savetxt('t_data0.txt', x_prev)\n",
    "print 'Zero iteration is successful! j = ', j[0],' ', Y_0, '\\n'\n",
    "\n",
    "k = 0\n",
    "while (k < 100 ):\n",
    "    j.append(0) #j_k+1\n",
    "    L.append([])\n",
    "    L[k + 1].append(L[k][j[k]] / 2) #L_k+1^0\n",
    "    alpha_next = ( (1. + A[k] * MU_tilde) / (2 * L[k + 1][j[k + 1]]) +\n",
    "                  np.sqrt( (1. + A[k] * MU_tilde)/(4 * L[k + 1][j[k + 1]]**2) +\n",
    "                          (A[k] * (1. + A[k] * MU_tilde))/(L[k + 1][j[k + 1]]) ) )\n",
    "    alpha.append(alpha_next)\n",
    "    A.append(A[k] + alpha[k + 1])\n",
    "    y.append((alpha[k + 1] * u + A[k] * x_prev)/A[k+1])\n",
    "    #!!!!!!!!\n",
    "    #grad_f_y_next = grad_f(y[k+1])\n",
    "    #f_y_next = f(y[k + 1])\n",
    "        \n",
    "    u_next = np.maximum(u - alpha[k+1] * grad_f(y[k+1]), weights)\n",
    "    x_next = (alpha[k + 1] * u_next + A[k] * x_prev) / A[k + 1]\n",
    "    #!!!!!\n",
    "    #f_x_next = f(x_next)\n",
    "    \n",
    "    value = ( f(y[k + 1]) + grad_f(y[k+1]).dot(x_next - y[k + 1]) + \n",
    "             (L[k + 1][j[k + 1]] / 2)  * np.linalg.norm(x_next - y[k + 1])**2 +\n",
    "             alpha[k + 1] * EPS / (2 * A[k + 1])) - f(x_next)\n",
    "    print value,'\\n'\n",
    "    while (value < 0. and j[k + 1] < 4):\n",
    "        j[k + 1] += 1\n",
    "        L[k + 1].append(2**j[k + 1] * L[k][j[k]])\n",
    "        alpha[k + 1] = ( (1. + A[k] * MU_tilde) / (2 * L[k + 1][j[k + 1]]) +\n",
    "                        np.sqrt( (1. + A[k] * MU_tilde)/(4 * L[k + 1][j[k + 1]]**2) +\n",
    "                                (A[k] * (1. + A[k] * MU_tilde))/(L[k + 1][j[k + 1]]) ) )\n",
    "        A[k+1] = A[k] + alpha[k + 1]\n",
    "        y[k+1] = (alpha[k + 1] * u + A[k] * x_prev)/A[k+1]\n",
    "        u_next = np.maximum(u - alpha[k+1] * grad_f(y[k+1]), weights)\n",
    "        x_next = (alpha[k + 1] * u_next + A[k] * x_prev) / A[k + 1]\n",
    "        Y_next = f(x_next)\n",
    "        value = ( f(y[k + 1]) + grad_f(y[k+1]).dot(x_next - y[k + 1]) + \n",
    "                 L[k + 1][j[k + 1]] / 2 * np.linalg.norm(x_next - y[k + 1])**2 + \n",
    "                 alpha[k + 1] * EPS / (2 * A[k + 1])) - Y_next\n",
    "        print 'j = ', j[k+1], 'value = ', value\n",
    "        \n",
    "    k += 1\n",
    "    print k, ' iteration done \\n'\n",
    "    print np.linalg.norm(Y_next - Y_0)/np.linalg.norm(Y_0)\n",
    "    if np.linalg.norm(Y_next - Y_0)/np.linalg.norm(Y_0) <= 10**-2:\n",
    "        np.savetxt('t_solution' + str(k) + '.txt', x_next)\n",
    "        print 'Success! Iteration = ', k\n",
    "        break\n",
    "    x_prev = x_next\n",
    "    u = u_next\n",
    "    np.savetxt('t_data' + str(k) + '.txt', x_next)\n",
    "\n",
    "t1 = timer()\n",
    "#print \"Solution: \", x_next\n",
    "print \"value: \", Y_next\n",
    "print 'Time : ', t1 - t0"
   ]
  },
  {
   "cell_type": "code",
   "execution_count": null,
   "metadata": {
    "collapsed": true
   },
   "outputs": [],
   "source": []
  },
  {
   "cell_type": "code",
   "execution_count": null,
   "metadata": {
    "collapsed": true
   },
   "outputs": [],
   "source": []
  }
 ],
 "metadata": {
  "kernelspec": {
   "display_name": "Python 2",
   "language": "python",
   "name": "python2"
  },
  "language_info": {
   "codemirror_mode": {
    "name": "ipython",
    "version": 2
   },
   "file_extension": ".py",
   "mimetype": "text/x-python",
   "name": "python",
   "nbconvert_exporter": "python",
   "pygments_lexer": "ipython2",
   "version": "2.7.11"
  }
 },
 "nbformat": 4,
 "nbformat_minor": 0
}
